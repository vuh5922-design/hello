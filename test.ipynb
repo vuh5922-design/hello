{
 "cells": [
  {
   "cell_type": "code",
   "execution_count": 2,
   "id": "c9fb23b0",
   "metadata": {},
   "outputs": [
    {
     "name": "stdout",
     "output_type": "stream",
     "text": [
      "Hello\n"
     ]
    }
   ],
   "source": [
    "print(\"Hello\")"
   ]
  },
  {
   "cell_type": "code",
   "execution_count": 58,
   "id": "365f9d89",
   "metadata": {},
   "outputs": [],
   "source": [
    "class Person:\n",
    "    class ABC:\n",
    "        def __init__(self):\n",
    "            self.a = None\n",
    "        \n",
    "        def phuongthuc():\n",
    "            print(\"Cai gi do\")\n",
    "            \n",
    "    \n",
    "    def __init__(self, name=None, age=None):\n",
    "        self._name = name\n",
    "        self._age  = age\n",
    "\n",
    "    def run(self):\n",
    "        print(f\"{self.name} runing\")\n",
    "    \n",
    "    \n",
    "    \n",
    "    "
   ]
  },
  {
   "cell_type": "code",
   "execution_count": 59,
   "id": "32c0fa0a",
   "metadata": {},
   "outputs": [
    {
     "name": "stdout",
     "output_type": "stream",
     "text": [
      "Cai gi do\n"
     ]
    }
   ],
   "source": [
    "a = Person(\"hiep\", 21)\n",
    "b = Person(\"hiep\", 21)\n",
    "\n",
    "Person.ABC.phuongthuc()"
   ]
  },
  {
   "cell_type": "code",
   "execution_count": null,
   "id": "8d767e60",
   "metadata": {},
   "outputs": [
    {
     "name": "stdout",
     "output_type": "stream",
     "text": [
      "[1, 2, 3, 4, 2]\n",
      "[1 2 3 4]\n"
     ]
    }
   ],
   "source": [
    "import numpy as np\n",
    "\n",
    "a = [1, 2, 3, 4]\n",
    "\n",
    "b = np.array([1, 2, 3, 4])\n",
    "\n",
    "a.append(2)\n",
    "print(a)\n",
    "print(b)"
   ]
  },
  {
   "cell_type": "code",
   "execution_count": null,
   "id": "77d73b38",
   "metadata": {},
   "outputs": [],
   "source": [
    "def sum(a, b):\n",
    "    return a + b\n",
    "\n",
    "def lamgi(a):\n",
    "    print(a)"
   ]
  },
  {
   "cell_type": "code",
   "execution_count": 18,
   "id": "95ccbfd0",
   "metadata": {},
   "outputs": [
    {
     "name": "stdout",
     "output_type": "stream",
     "text": [
      "Hiep runing\n"
     ]
    }
   ],
   "source": [
    "hiep = Person(\"Hiep\")\n",
    "\n",
    "hiep.run()"
   ]
  }
 ],
 "metadata": {
  "kernelspec": {
   "display_name": "Python 3",
   "language": "python",
   "name": "python3"
  },
  "language_info": {
   "codemirror_mode": {
    "name": "ipython",
    "version": 3
   },
   "file_extension": ".py",
   "mimetype": "text/x-python",
   "name": "python",
   "nbconvert_exporter": "python",
   "pygments_lexer": "ipython3",
   "version": "3.10.0"
  }
 },
 "nbformat": 4,
 "nbformat_minor": 5
}
